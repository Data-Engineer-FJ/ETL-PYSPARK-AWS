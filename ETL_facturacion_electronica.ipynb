{
 "cells": [
  {
   "cell_type": "markdown",
   "id": "44bb3012",
   "metadata": {},
   "source": [
    "# Proyecto ETL: ETL_Facturacion_Electronica"
   ]
  },
  {
   "cell_type": "code",
   "execution_count": null,
   "id": "be7f1a60",
   "metadata": {},
   "outputs": [],
   "source": [
    "from pyspark.sql import SparkSession\n",
    "from pyspark.sql.functions import *\n",
    "import boto3"
   ]
  },
  {
   "cell_type": "code",
   "execution_count": null,
   "id": "cc5c410e",
   "metadata": {},
   "outputs": [],
   "source": [
    "spark = SparkSession.builder \\\n",
    "    .appName(\"ETL_Facturacion_Electronica\") \\\n",
    "    .config(\"spark.hadoop.fs.s3a.impl\", \"org.apache.hadoop.fs.s3a.S3AFileSystem\") \\\n",
    "    .config(\"spark.hadoop.fs.s3a.aws.credentials.provider\", \"com.amazonaws.auth.DefaultAWSCredentialsProviderChain\") \\\n",
    "    .getOrCreate()"
   ]
  },
  {
   "cell_type": "code",
   "execution_count": null,
   "id": "e7a84bc1",
   "metadata": {},
   "outputs": [],
   "source": [
    "# Configurar acceso a S3 si es necesario\n",
    "# spark._jsc.hadoopConfiguration().set(\"fs.s3a.access.key\", \"TU_ACCESS_KEY\")\n",
    "# spark._jsc.hadoopConfiguration().set(\"fs.s3a.secret.key\", \"TU_SECRET_KEY\")"
   ]
  },
  {
   "cell_type": "code",
   "execution_count": null,
   "id": "b2ac37f2",
   "metadata": {},
   "outputs": [],
   "source": [
    "ruta_origen = \"s3a://mi-bucket/facturas/\"\n",
    "df_raw = spark.read.option(\"header\", True).json(ruta_origen)"
   ]
  },
  {
   "cell_type": "code",
   "execution_count": null,
   "id": "fa671fa9",
   "metadata": {},
   "outputs": [],
   "source": [
    "df_limpio = df_raw.selectExpr(\"RUC\", \"monto\", \"fechaEmision\")"
   ]
  },
  {
   "cell_type": "code",
   "execution_count": null,
   "id": "d5166c36",
   "metadata": {},
   "outputs": [],
   "source": [
    "df_limpio.printSchema()\n",
    "df_limpio.show(5)"
   ]
  },
  {
   "cell_type": "code",
   "execution_count": null,
   "id": "54bb0f7e",
   "metadata": {},
   "outputs": [],
   "source": [
    "df_limpio.write.mode(\"overwrite\").parquet(ruta_origen.replace(\"raw\", \"processed\"))"
   ]
  },
  {
   "cell_type": "code",
   "execution_count": null,
   "id": "050d22c7",
   "metadata": {},
   "outputs": [],
   "source": [
    "spark.stop()"
   ]
  }
 ],
 "metadata": {
  "kernelspec": {
   "display_name": "Python 3",
   "name": "python3"
  },
  "language_info": {
   "name": "python",
   "version": "3.11"
  }
 },
 "nbformat": 4,
 "nbformat_minor": 5
}